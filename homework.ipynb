{
  "nbformat": 4,
  "nbformat_minor": 0,
  "metadata": {
    "colab": {
      "name": "homework.ipynb",
      "provenance": [],
      "include_colab_link": true
    },
    "kernelspec": {
      "name": "python3",
      "display_name": "Python 3"
    }
  },
  "cells": [
    {
      "cell_type": "markdown",
      "metadata": {
        "id": "view-in-github",
        "colab_type": "text"
      },
      "source": [
        "<a href=\"https://colab.research.google.com/github/xuan0109/cs4high_4080E045/blob/master/homework.ipynb\" target=\"_parent\"><img src=\"https://colab.research.google.com/assets/colab-badge.svg\" alt=\"Open In Colab\"/></a>"
      ]
    },
    {
      "cell_type": "code",
      "metadata": {
        "id": "XkMVQV8vA3OV",
        "colab_type": "code",
        "colab": {
          "base_uri": "https://localhost:8080/",
          "height": 170
        },
        "outputId": "8f25ed66-a4ab-4a5b-d097-0da61ef5b4a7"
      },
      "source": [
        "print(\"      *      \")\n",
        "print(\"     ***     \")\n",
        "print(\"    *****    \")\n",
        "print(\"   *******   \")\n",
        "print(\"    *****    \")\n",
        "print(\"  *********  \")\n",
        "print(\" *********** \")\n",
        "print(\"     ***     \")\n",
        "print(\"     ***     \")"
      ],
      "execution_count": 1,
      "outputs": [
        {
          "output_type": "stream",
          "text": [
            "      *      \n",
            "     ***     \n",
            "    *****    \n",
            "   *******   \n",
            "    *****    \n",
            "  *********  \n",
            " *********** \n",
            "     ***     \n",
            "     ***     \n"
          ],
          "name": "stdout"
        }
      ]
    }
  ]
}